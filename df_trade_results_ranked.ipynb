{
 "metadata": {
  "language_info": {
   "codemirror_mode": {
    "name": "ipython",
    "version": 3
   },
   "file_extension": ".py",
   "mimetype": "text/x-python",
   "name": "python",
   "nbconvert_exporter": "python",
   "pygments_lexer": "ipython3",
   "version": "3.6.8-final"
  },
  "orig_nbformat": 2,
  "kernelspec": {
   "name": "python3",
   "display_name": "Python 3",
   "language": "python"
  }
 },
 "nbformat": 4,
 "nbformat_minor": 2,
 "cells": [
  {
   "cell_type": "code",
   "execution_count": 1,
   "metadata": {},
   "outputs": [],
   "source": [
    "import pandas as pd\n",
    "import datetime as dt  # NOQA\n",
    "import sys\n",
    "sys.path.append('C:/Users/ping/Google Drive/python/py_files/perfstat/')\n",
    "# sys.path.append('/content/drive/My Drive/python/py_files/perfstat/')\n",
    "# sys.path.append('/content/drive/My Drive/python/py_files/')\n",
    "from util import pickle_load, pickle_dump, print_symbol_data, plot_symbols\n",
    "\n",
    "# +++ input +++\n",
    "path_symbols_data = \\\n",
    "    'C:/Users/ping/Google Drive/stocks/MktCap2b_AUMtop1200/'\n",
    "path_data_dump = path_symbols_data + 'VSCode_dump/'\n",
    "filename_df_in = 'df_trade_results'\n",
    "filename_df_out = 'df_trade_results_ranked'\n",
    "# +++ end input +++"
   ]
  },
  {
   "cell_type": "code",
   "execution_count": 2,
   "metadata": {},
   "outputs": [
    {
     "output_type": "stream",
     "name": "stdout",
     "text": [
      "Index(['file', 'columns', 'str_iloc_offsets', 'slice_stop', 'days_trade_delay', 'pct_bid_ask_spread', 'drop_top_pct_CAGR', 'drop_bottom_pct_CAGR', 'date_buy_older_limit', 'date_buy_newer_limit',\n       'CAGR_count', 'CAGR_min', 'CAGR_25%', 'CAGR_50%', 'CAGR_75%', 'CAGR_max', 'CAGR_mean', 'CAGR_std', 'CAGR_mean/std', 'win_mean', 'win_std', 'win_mean/std', 'trades/week', 'days_held_mean',\n       'days_held_std', 'days_held_mean/std'],\n      dtype='object') \n\n                file  columns str_iloc_offsets  slice_stop  days_trade_delay  ...  win_mean/std  trades/week  days_held_mean days_held_std days_held_mean/std\n7396  df_ps1n2_re...  k12:k12  [1, 2, 3, 4...           10               8    ...      1.154701     0.036946             1.0           0.0             inf   \n8476  df_ps1n2_re...  k12:k12  [1, 2, 3, 4...           15               6    ...      0.912871     0.012495             1.0           0.0             inf   \n6436  df_ps1n2_re...  k12:k12  [1, 2, 3, 4...           10               0    ...      1.154701     0.036946             1.0           0.0             inf   \n7636  df_ps1n2_re...  k12:k12  [1, 2, 3, 4...           10              10    ...      1.154701     0.036946             1.0           0.0             inf   \n7036  df_ps1n2_re...  k12:k12  [1, 2, 3, 4...           10               5    ...      0.000000     0.036946             1.0           0.0             inf   \n\n[5 rows x 26 columns]\n"
     ]
    }
   ],
   "source": [
    "pd.set_option('display.width', 200)\n",
    "pd.set_option('display.max_columns', 10)\n",
    "pd.set_option('display.max_colwidth', 15)\n",
    "\n",
    "df = pickle_load(path_data_dump, filename_df_in)\n",
    "print(df.columns, '\\n')\n",
    "print(df.head())"
   ]
  },
  {
   "cell_type": "code",
   "execution_count": 3,
   "metadata": {},
   "outputs": [
    {
     "output_type": "stream",
     "name": "stdout",
     "text": [
      "                file  columns str_iloc_offsets  slice_stop  days_trade_delay  pct_bid_ask_spread  drop_top_pct_CAGR  drop_bottom_pct_CAGR\n7396  df_ps1n2_re...  k12:k12  [1, 2, 3, 4...           10               8              0.03                   0                  0      \n8476  df_ps1n2_re...  k12:k12  [1, 2, 3, 4...           15               6              0.03                   0                  0      \n6436  df_ps1n2_re...  k12:k12  [1, 2, 3, 4...           10               0              0.03                   0                  0      \n7636  df_ps1n2_re...  k12:k12  [1, 2, 3, 4...           10              10              0.03                   0                  0      \n7036  df_ps1n2_re...  k12:k12  [1, 2, 3, 4...           10               5              0.03                   0                  0       \n\n     date_buy_older_limit date_buy_newer_limit  CAGR_count    CAGR_min     CAGR_25%     CAGR_50%      CAGR_75%      CAGR_max     CAGR_mean\n7396      2005-11-10           2020-12-14              3.0  -99.999867    74.647767   249.295401  2.651135e+02  2.809317e+02  1.434091e+02\n8476      2005-11-10           2020-12-14              6.0 -100.000000   -87.118185   133.348068  5.453792e+02  6.705043e+02  2.265527e+02\n6436      2005-11-10           2020-12-14              3.0  -89.846102    38.180008   166.206118  2.021448e+03  3.876690e+03  1.317683e+03\n7636      2005-11-10           2020-12-14              3.0  -99.862666    22.366536   144.595738  4.017310e+07  8.034606e+07  2.678203e+07\n7036      2005-11-10           2020-12-14              3.0   77.072080  1294.259587  2511.447093  1.903253e+19  3.806506e+19  1.268835e+19 \n\n          CAGR_std  CAGR_mean/std  win_mean   win_std  win_mean/std  trades/week  days_held_mean  days_held_std  days_held_mean/std\n7396  2.113910e+02       0.678407  0.666667  0.577350      1.154701     0.036946             1.0            0.0             inf    \n8476  3.606491e+02       0.628181  0.500000  0.547723      0.912871     0.012495             1.0            0.0             inf    \n6436  2.219860e+03       0.593589  0.666667  0.577350      1.154701     0.036946             1.0            0.0             inf    \n7636  4.638781e+07       0.577351  0.666667  0.577350      1.154701     0.036946             1.0            0.0             inf    \n7036  2.197687e+19       0.577350  1.000000  0.000000      0.000000     0.036946             1.0            0.0             inf     \n\n\n                file columns str_iloc_offsets  slice_stop  days_trade_delay  pct_bid_ask_spread  drop_top_pct_CAGR  drop_bottom_pct_CAGR\n7986  df_ps1n2_re...  k12:k2  [1, 2, 3, 4...           15               2              0.03                   0                  0      \n8009  df_ps1n2_re...  k12:k1  [3, 6, 9, 1...           15               2              0.03                   0                  0      \n9305  df_ps1n2_re...  k12:k1  [1, 2, 3, 4...           20               2              0.03                   0                  0      \n9306  df_ps1n2_re...  k12:k2  [1, 2, 3, 4...           20               2              0.03                   0                  0      \n9329  df_ps1n2_re...  k12:k1  [3, 6, 9, 1...           20               2              0.03                   0                  0       \n\n     date_buy_older_limit date_buy_newer_limit  CAGR_count  CAGR_min   CAGR_25%  CAGR_50%    CAGR_75%  CAGR_max  CAGR_mean\n7986      2005-11-10           2020-12-14          60068.0    -100.0 -82.511298 -1.252095  374.977723       inf        inf\n8009      2005-11-10           2020-12-14         116335.0    -100.0 -82.876927 -2.042073  372.950141       inf        inf\n9305      2005-11-10           2020-12-14         264365.0    -100.0 -82.040442 -0.836482  418.458129       inf        inf\n9306      2005-11-10           2020-12-14          79413.0    -100.0 -82.640288 -1.850302  362.171961       inf        inf\n9329      2005-11-10           2020-12-14         143403.0    -100.0 -82.374925 -2.404956  359.460041       inf        inf \n\n      CAGR_std  CAGR_mean/std  win_mean   win_std  win_mean/std  trades/week  days_held_mean  days_held_std  days_held_mean/std\n7986       NaN            NaN  0.495821  0.499987      0.991669    79.161834        2.181012       2.211520        0.986205    \n8009       NaN            NaN  0.494185  0.499968      0.988432   153.314444        2.459501       4.424723        0.555854    \n9305       NaN            NaN  0.498031  0.499997      0.996068   348.398788        1.728697       1.797724        0.961603    \n9306       NaN            NaN  0.494377  0.499972      0.988811   104.656036        2.238979       2.286363        0.979275    \n9329       NaN            NaN  0.493253  0.499956      0.986593   188.986558        2.582889       4.662707        0.553946    \n"
     ]
    }
   ],
   "source": [
    "my_columns1 = ['file', 'columns', 'str_iloc_offsets', 'slice_stop', 'days_trade_delay', 'pct_bid_ask_spread', 'drop_top_pct_CAGR', 'drop_bottom_pct_CAGR']\n",
    "my_columns2 = ['date_buy_older_limit', 'date_buy_newer_limit', 'CAGR_count', 'CAGR_min', 'CAGR_25%', 'CAGR_50%', 'CAGR_75%', 'CAGR_max', 'CAGR_mean']\n",
    "my_columns3 = ['CAGR_std', 'CAGR_mean/std', 'win_mean', 'win_std', 'win_mean/std', 'trades/week', 'days_held_mean', 'days_held_std', 'days_held_mean/std']\n",
    "df=df.sort_values(by=['CAGR_mean/std'], ascending=False)\n",
    "print(df[my_columns1].head(), '\\n')\n",
    "print(df[my_columns2].head(), '\\n')\n",
    "print(df[my_columns3].head(), '\\n'*2)\n",
    "print(df[my_columns1].tail(), '\\n')\n",
    "print(df[my_columns2].tail(), '\\n')\n",
    "print(df[my_columns3].tail())"
   ]
  },
  {
   "cell_type": "code",
   "execution_count": 4,
   "metadata": {},
   "outputs": [
    {
     "output_type": "execute_result",
     "data": {
      "text/plain": [
       "array(['2005-11-10'], dtype=object)"
      ]
     },
     "metadata": {},
     "execution_count": 4
    }
   ],
   "source": [
    "df.date_buy_older_limit.unique()"
   ]
  },
  {
   "cell_type": "code",
   "execution_count": 5,
   "metadata": {},
   "outputs": [
    {
     "output_type": "stream",
     "name": "stdout",
     "text": [
      "len(df) before drop rows: 5280\nlen(df) after drop rows: 5259\n"
     ]
    }
   ],
   "source": [
    "print(f'len(df) before drop rows: {len(df)}')\n",
    "\n",
    "# Get indexes where name column has value john, faster than query\n",
    "index_drop = df[df['CAGR_count'] < 0].index\n",
    "\n",
    "# Delete these row indexes from dataFrame\n",
    "df.drop(index_drop , inplace=True)\n",
    "df = df.dropna(subset=['CAGR_mean/std'])\n",
    "print(f'len(df) after drop rows: {len(df)}')"
   ]
  },
  {
   "cell_type": "code",
   "execution_count": 6,
   "metadata": {},
   "outputs": [],
   "source": [
    "# print(f'len(df) before drop rows: {len(df)}')\n",
    "# # Get indexes where name column has value john, faster than query\n",
    "# index_drop = df[df['CAGR_count'] < 5].index\n",
    "# # Delete these row indexes from dataFrame\n",
    "# df.drop(index_drop , inplace=True)\n",
    "# df = df.dropna(subset=['CAGR_mean/std'])\n",
    "# print(f'len(df) after drop rows: {len(df)}')"
   ]
  },
  {
   "cell_type": "code",
   "execution_count": 7,
   "metadata": {},
   "outputs": [
    {
     "output_type": "stream",
     "name": "stdout",
     "text": [
      "5259\n                file  columns str_iloc_offsets  slice_stop  days_trade_delay  pct_bid_ask_spread  drop_top_pct_CAGR  drop_bottom_pct_CAGR\n5715  df_ps1n2_re...  k12:k11  [1, 2, 3, 4...            5               5              0.03                   0                  0      \n6075  df_ps1n2_re...  k12:k11  [1, 2, 3, 4...            5               8              0.03                   0                  0      \n7396  df_ps1n2_re...  k12:k12  [1, 2, 3, 4...           10               8              0.03                   0                  0      \n8716  df_ps1n2_re...  k12:k12  [1, 2, 3, 4...           15               8              0.03                   0                  0      \n6436  df_ps1n2_re...  k12:k12  [1, 2, 3, 4...           10               0              0.03                   0                  0       \n\n     date_buy_older_limit date_buy_newer_limit  CAGR_count   CAGR_min    CAGR_25%     CAGR_50%      CAGR_75%      CAGR_max     CAGR_mean\n5715      2005-11-10           2020-12-14              6.0  -5.108842   85.610835  1311.337096  2.167558e+04  1.148718e+08  1.915043e+07\n6075      2005-11-10           2020-12-14              6.0 -99.966516   69.073470   265.113535  1.818238e+03  1.301047e+07  2.168873e+06\n7396      2005-11-10           2020-12-14              3.0 -99.999867   74.647767   249.295401  2.651135e+02  2.809317e+02  1.434091e+02\n8716      2005-11-10           2020-12-14              6.0 -99.999867  257.204468   817.514013  3.265862e+06  2.198693e+46  3.664489e+45\n6436      2005-11-10           2020-12-14              3.0 -89.846102   38.180008   166.206118  2.021448e+03  3.876690e+03  1.317683e+03 \n\n          CAGR_std  CAGR_mean/std  win_mean   win_std  win_mean/std  trades/week  days_held_mean  days_held_std  days_held_mean/std\n5715  4.689371e+07       0.408379  0.833333  0.408248      2.041241     0.026786             1.0            0.0             inf    \n6075  5.311275e+06       0.408353  0.833333  0.408248      2.041241     0.026786             1.0            0.0             inf    \n7396  2.113910e+02       0.678407  0.666667  0.577350      1.154701     0.036946             1.0            0.0             inf    \n8716  8.976127e+45       0.408248  0.833333  0.408248      2.041241     0.012495             1.0            0.0             inf    \n6436  2.219860e+03       0.593589  0.666667  0.577350      1.154701     0.036946             1.0            0.0             inf     \n\n      Rank_CAGR_mean/std  Rank_win_mean/std  Sum_Ranks  Pct_Rank_Sum_Ranks\n5715          5249.0              5258.0       10507.0        1.000000    \n6075          5248.0              5258.0       10506.0        0.999810    \n7396          5259.0              5237.0       10496.0        0.999620    \n8716          5236.5              5258.0       10494.5        0.999430    \n6436          5257.0              5237.0       10494.0        0.999239     \n\n\n                file  columns str_iloc_offsets  slice_stop  days_trade_delay  pct_bid_ask_spread  drop_top_pct_CAGR  drop_bottom_pct_CAGR\n9065  df_ps1n2_re...   k12:k1  [1, 2, 3, 4...           20               0              0.03                   0                  0      \n6315  df_ps1n2_re...  k12:k11  [1, 2, 3, 4...            5              10              0.03                   0                  0      \n6676  df_ps1n2_re...  k12:k12  [1, 2, 3, 4...           10               2              0.03                   0                  0      \n5115  df_ps1n2_re...  k12:k11  [1, 2, 3, 4...            5               0              0.03                   0                  0      \n5368  df_ps1n2_re...  k12:k12  [2, 4, 6, 8...            5               2              0.03                   0                  0       \n\n     date_buy_older_limit date_buy_newer_limit  CAGR_count    CAGR_min   CAGR_25%   CAGR_50%    CAGR_75%      CAGR_max     CAGR_mean\n9065      2005-11-10           2020-12-14         264556.0 -100.000000 -89.012485 -24.253310  213.389931  1.606785e+47  6.073518e+41\n6315      2005-11-10           2020-12-14              6.0 -100.000000 -94.383015 -43.673077   77.301849  1.445957e+02 -6.068320e+00\n6676      2005-11-10           2020-12-14              3.0  -99.956974 -78.491309 -57.025645   10.714350  7.845435e+01 -2.617609e+01\n5115      2005-11-10           2020-12-14              7.0 -100.000000 -96.779542 -89.846102  -48.068739  1.662061e+02 -4.476236e+01\n5368      2005-11-10           2020-12-14              6.0 -100.000000 -99.999582 -99.987288  -33.603937 -2.902466e+00 -6.905948e+01 \n\n          CAGR_std  CAGR_mean/std  win_mean   win_std  win_mean/std  trades/week  days_held_mean  days_held_std  days_held_mean/std\n9065  3.123914e+44       0.001944  0.425392  0.494403      0.860415   348.466807        1.728659       1.797704        0.961593    \n6315  1.077983e+02      -0.056293  0.333333  0.516398      0.645497     0.026786        1.000000       0.000000             inf    \n6676  9.312046e+01      -0.281099  0.333333  0.577350      0.577350     0.036946        1.000000       0.000000             inf    \n5115  9.853242e+01      -0.454291  0.142857  0.377964      0.377964     0.010078        1.000000       0.000000             inf    \n5368  4.799970e+01      -1.438748  0.000000  0.000000      0.000000     0.009141        1.166667       0.408248        2.857738     \n\n      Rank_CAGR_mean/std  Rank_win_mean/std  Sum_Ranks  Pct_Rank_Sum_Ranks\n9065             5.0               591.0         596.0        0.000951    \n6315             4.0                24.0          28.0        0.000761    \n6676             3.0                12.0          15.0        0.000570    \n5115             2.0                 4.0           6.0        0.000380    \n5368             1.0                 2.0           3.0        0.000190    \n"
     ]
    }
   ],
   "source": [
    "df['Rank_CAGR_mean/std'] = df['CAGR_mean/std'].rank()\n",
    "df['Rank_win_mean/std'] = df['win_mean/std'].rank()\n",
    "df['Sum_Ranks'] = df['Rank_CAGR_mean/std'] + df['Rank_win_mean/std']\n",
    "df['Pct_Rank_Sum_Ranks'] = df['Sum_Ranks'].rank(pct=True)\n",
    "df=df.sort_values(by=['Pct_Rank_Sum_Ranks'], ascending=False)\n",
    "my_columns4 = ['Rank_CAGR_mean/std', 'Rank_win_mean/std', 'Sum_Ranks', 'Pct_Rank_Sum_Ranks']\n",
    "pd.set_option('display.width', 200)\n",
    "pd.set_option('display.max_columns', 9)\n",
    "pd.set_option('display.max_colwidth', 15)\n",
    "print(len(df))\n",
    "print(df[my_columns1].head(), '\\n')\n",
    "print(df[my_columns2].head(), '\\n')\n",
    "print(df[my_columns3].head(), '\\n')\n",
    "print(df[my_columns4].head(), '\\n'*2)\n",
    "print(df[my_columns1].tail(), '\\n')\n",
    "print(df[my_columns2].tail(), '\\n')\n",
    "print(df[my_columns3].tail(), '\\n')\n",
    "print(df[my_columns4].tail())\n",
    "pickle_dump(df, path_data_dump, filename_df_out)"
   ]
  }
 ]
}