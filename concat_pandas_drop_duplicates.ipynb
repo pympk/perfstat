{
 "nbformat": 4,
 "nbformat_minor": 2,
 "metadata": {
  "language_info": {
   "name": "python",
   "codemirror_mode": {
    "name": "ipython",
    "version": 3
   },
   "version": "3.6.8-final"
  },
  "orig_nbformat": 2,
  "file_extension": ".py",
  "mimetype": "text/x-python",
  "name": "python",
  "npconvert_exporter": "python",
  "pygments_lexer": "ipython3",
  "version": 3,
  "kernelspec": {
   "name": "python3",
   "display_name": "Python 3.6.8 64-bit",
   "metadata": {
    "interpreter": {
     "hash": "5e12e0162ccf6b2e8b0bdac6b5be9bdba0310f2a8edac0677d3381b722cda75b"
    }
   }
  }
 },
 "cells": [
  {
   "cell_type": "code",
   "execution_count": 1,
   "metadata": {},
   "outputs": [],
   "source": [
    "import sys\n",
    "sys.path.append(\"C:/Users/ping/Google Drive/python/py_files\")\n",
    "import pandas as pd\n",
    "from util import pickle_dump, pickle_load\n",
    "\n",
    "path = 'C:/Users/ping/Desktop/colab/'\n",
    "file1 = 'df_ps1n2_merged'\n",
    "file2 = 'df_ps1n2_results'\n",
    "# file3 = 'c19_df_ps1n2_results'\n",
    "# file4 = 'c10_df_ps1n2_results'\n",
    "# file5 = 'c11_df_ps1n2_results'\n",
    "# file6 = 'c12_df_ps1n2_results'\n",
    "# file7 = 'c13_df_ps1n2_results'\n",
    "# file8 = 'c14_df_ps1n2_results'"
   ]
  },
  {
   "cell_type": "code",
   "execution_count": 2,
   "metadata": {},
   "outputs": [],
   "source": [
    "pd.set_option('display.max_columns', 11)\n",
    "pd.set_option('display.max_colwidth', 15)\n",
    "pd.set_option('display.width', 800)"
   ]
  },
  {
   "cell_type": "code",
   "execution_count": 3,
   "metadata": {},
   "outputs": [],
   "source": [
    "df1 = pickle_load(path, file1)\n",
    "df2 = pickle_load(path, file2)\n",
    "# df3 = pickle_load(path, file3)\n",
    "# df4 = pickle_load(path, file4)\n",
    "# df5 = pickle_load(path, file5)\n",
    "# df6 = pickle_load(path, file6)\n",
    "# df7 = pickle_load(path, file7)\n",
    "# df8 = pickle_load(path, file8)"
   ]
  },
  {
   "cell_type": "code",
   "execution_count": 4,
   "metadata": {},
   "outputs": [],
   "source": [
    "# df = pd.concat([df1, df2, df3, df4, df5, df6, df7, df8], ignore_index=True)\n",
    "df = pd.concat([df1, df2], ignore_index=True)"
   ]
  },
  {
   "cell_type": "code",
   "execution_count": 5,
   "metadata": {},
   "outputs": [
    {
     "output_type": "stream",
     "name": "stdout",
     "text": [
      "len(df1): 151160\nlen(df2): 151200\nlen(df): 302360\n"
     ]
    }
   ],
   "source": [
    "print(f'len(df1): {len(df1)}')\n",
    "print(f'len(df2): {len(df2)}')\n",
    "# print(f'len(df3): {len(df3)}')\n",
    "# print(f'len(df4): {len(df4)}')\n",
    "# print(f'len(df5): {len(df5)}')\n",
    "# print(f'len(df6): {len(df6)}')\n",
    "# print(f'len(df7): {len(df7)}')\n",
    "# print(f'len(df8): {len(df8)}')\n",
    "print(f'len(df): {len(df)}')"
   ]
  },
  {
   "cell_type": "code",
   "execution_count": 6,
   "metadata": {},
   "outputs": [
    {
     "output_type": "stream",
     "name": "stdout",
     "text": [
      "Index(['date_end', 'k12', 'k11', 'k10', 'k9', 'k8', 'k7', 'k6', 'k5', 'k4', 'k3', 'k2', 'k1', 'symb_uniq', 'symb_lists', 'symb_all', 'pct_uniq_all', 'pct_lists_all', 'str_iloc_offsets', 'slice_start', 'slice_stop', 'path'], dtype='object')\n"
     ]
    }
   ],
   "source": [
    "print(df.columns)"
   ]
  },
  {
   "cell_type": "code",
   "execution_count": 7,
   "metadata": {},
   "outputs": [],
   "source": [
    "columns_drop_duplicate = ['date_end', 'str_iloc_offsets', 'slice_start', 'slice_stop']"
   ]
  },
  {
   "cell_type": "code",
   "execution_count": 8,
   "metadata": {},
   "outputs": [
    {
     "output_type": "stream",
     "name": "stdout",
     "text": [
      "len(df_drop_dup): 151200\n"
     ]
    }
   ],
   "source": [
    "df_drop_dup = df.drop_duplicates(subset=columns_drop_duplicate, keep='last', inplace=False, ignore_index=True)\n",
    "print(f'len(df_drop_dup): {len(df_drop_dup)}')"
   ]
  },
  {
   "cell_type": "code",
   "execution_count": null,
   "metadata": {},
   "outputs": [],
   "source": [
    "sort_order = ['str_iloc_offsets', 'slice_stop', 'date_end']\n",
    "df_drop_dup = df_drop_dup.sort_values(by=sort_order, ascending=[True, True, True], inplace=False, ignore_index=True)"
   ]
  },
  {
   "cell_type": "code",
   "execution_count": null,
   "metadata": {},
   "outputs": [],
   "source": [
    "pd.set_option('display.max_columns', 11)\n",
    "pd.set_option('display.max_colwidth', 25)\n",
    "pd.set_option('display.max_rows', 200)\n",
    "pd.set_option('display.width', 1000)"
   ]
  },
  {
   "cell_type": "code",
   "execution_count": null,
   "metadata": {
    "tags": []
   },
   "outputs": [],
   "source": [
    "col_disp = ['date_end', 'k12', 'k11', 'k8', 'str_iloc_offsets', 'slice_stop']\n",
    "# print(df_drop_dup[col_disp].tail(200))\n",
    "print(df_drop_dup[col_disp])"
   ]
  },
  {
   "cell_type": "code",
   "execution_count": null,
   "metadata": {},
   "outputs": [],
   "source": [
    "# df_filter = df_drop_dup.loc[df_drop_dup['str_iloc_offsets'] == '[9, 18, 27, 36, 45, 54, 63, 72, 81, 90, 99, 108]']\n",
    "df_filter = df_drop_dup.loc[df_drop_dup['str_iloc_offsets'] == '[1, 2, 3, 4, 5, 6, 7, 8, 9, 10, 11, 12]']\n",
    "print(df_filter[col_disp])"
   ]
  },
  {
   "cell_type": "code",
   "execution_count": null,
   "metadata": {},
   "outputs": [],
   "source": [
    "pickle_dump(df_drop_dup, path, 'df_ps1n2_merged')"
   ]
  },
  {
   "cell_type": "code",
   "execution_count": null,
   "metadata": {
    "tags": []
   },
   "outputs": [],
   "source": [
    "print(df_filter[col_disp].tail(150))"
   ]
  },
  {
   "cell_type": "code",
   "execution_count": null,
   "metadata": {},
   "outputs": [],
   "source": []
  }
 ]
}