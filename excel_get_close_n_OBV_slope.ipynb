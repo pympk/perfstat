{
 "metadata": {
  "language_info": {
   "codemirror_mode": {
    "name": "ipython",
    "version": 3
   },
   "file_extension": ".py",
   "mimetype": "text/x-python",
   "name": "python",
   "nbconvert_exporter": "python",
   "pygments_lexer": "ipython3",
   "version": "3.6.8-final"
  },
  "orig_nbformat": 2,
  "kernelspec": {
   "name": "python36864bitbf6b78bf6d2a40e4bd1d314e5e6db1c3",
   "display_name": "Python 3.6.8 64-bit",
   "language": "python"
  }
 },
 "nbformat": 4,
 "nbformat_minor": 2,
 "cells": [
  {
   "source": [
    "Read excel file sheet to dataframe  \n",
    "Keep columns and rows with at least 70% Non-NaN values  \n",
    "Read column 'symbol' to list 'symbols'  \n",
    "For each symbol:  \n",
    "&emsp;Read OHLCV csv file  \n",
    "&emsp;Get date_close symbol's close  \n",
    "&emsp;Calculate OBV_slope on date_end  \n",
    "&emsp;Append symbol, date_close, close, date_end, OBV_slope to dict data  \n",
    "Create df_out with data  \n",
    "Output df_out to csv file on desktop  \n"
   ],
   "cell_type": "markdown",
   "metadata": {}
  },
  {
   "cell_type": "code",
   "execution_count": null,
   "metadata": {},
   "outputs": [],
   "source": []
  },
  {
   "cell_type": "code",
   "execution_count": 23,
   "metadata": {},
   "outputs": [],
   "source": [
    "# f_excel = r'C:\\Users\\ping\\Desktop\\vanguard_2020-01-15.xlsx'  # excel file path\n",
    "f_excel = r'C:\\Users\\ping\\Desktop\\get_symbols_close.xlsx'  # excel file path\n",
    "sh_excel = 'Sheet1'  # sheet\n",
    "col_to_list = 'symbol'  # convert symbol column to list\n",
    "date_close = '2021-02-18'  # date to get close price"
   ]
  },
  {
   "source": [
    "import pandas as pd\n",
    "\n",
    "pd.set_option(\"display.max_columns\", 12)\n",
    "pd.set_option(\"display.max_colwidth\", 15)\n",
    "pd.set_option(\"display.precision\", 3)\n",
    "pd.set_option(\"display.max_rows\", 30)\n",
    "pd.set_option(\"display.width\", 180)\n",
    "\n",
    "df = pd.read_excel(f_excel, sheet_name=sh_excel, engine='openpyxl')\n",
    "print(f'df before drop NaN:\\n{df}\\n')\n",
    "# keep columns with 70% Non-NaN values\n",
    "df = df.dropna(thresh=df.shape[0]*0.7, axis=1)\n",
    "# keep rows with 70% Non-NaN values\n",
    "df = df.dropna(thresh=df.shape[1]*0.7, axis=0)\n",
    "print(f'df after drop NaN:\\n{df}\\n')"
   ],
   "cell_type": "code",
   "metadata": {},
   "execution_count": 24,
   "outputs": [
    {
     "output_type": "stream",
     "name": "stdout",
     "text": [
      "df before drop NaN:\n   symbol\n0    AAPL\n1   ADYEY\n2    AMZN\n3     API\n4    BABA\n..    ...\n50    TSM\n51   TWLO\n52   TWST\n53   VRTX\n54      Z\n\n[55 rows x 1 columns]\n\ndf after drop NaN:\n   symbol\n0    AAPL\n1   ADYEY\n2    AMZN\n3     API\n4    BABA\n..    ...\n50    TSM\n51   TWLO\n52   TWST\n53   VRTX\n54      Z\n\n[55 rows x 1 columns]\n\n"
     ]
    }
   ]
  },
  {
   "cell_type": "code",
   "execution_count": 25,
   "metadata": {},
   "outputs": [
    {
     "output_type": "stream",
     "name": "stdout",
     "text": [
      "symbols (55): ['AAPL', 'ADYEY', 'AMZN', 'API', 'BABA', 'BIDU', 'BYDDY', 'CAT', 'CDNA', 'CRSP', 'DE', 'EXAS', 'FATE', 'FB', 'FSLY', 'GBTC', 'GOOG', 'ICE', 'IOVA', 'IRDM', 'JD', 'KTOS', 'MELI', 'MTLS', 'NFLX', 'NNDM', 'NVS', 'NVTA', 'NXPI', 'PACB', 'PINS', 'PRLB', 'PSNL', 'PSTG', 'PYPL', 'REGN', 'RHHBY', 'ROKU', 'SE', 'SHOP', 'SI', 'SNAP', 'SPCE', 'SPOT', 'SQ', 'TAK', 'TCEHY', 'TDOC', 'TRMB', 'TSLA', 'TSM', 'TWLO', 'TWST', 'VRTX', 'Z']\n"
     ]
    }
   ],
   "source": [
    "symbols = df[col_to_list].to_list()  # convert symbols in column to list\n",
    "print(f'symbols ({len(symbols)}): {symbols}')"
   ]
  },
  {
   "cell_type": "code",
   "execution_count": 26,
   "metadata": {},
   "outputs": [],
   "source": [
    "from util import OBV_calc, pickle_load, dates_within_limits\n",
    "path_OHLCV = \"C:/Users/ping/Google Drive/stocks/MktCap2b_AUMtop1200/OHLCV/\"\n",
    "col_names = [\"date\", \"open\", \"high\", \"low\", \"close\", \"volume\"]\n",
    "\n",
    "# get date index of 'XOM'\n",
    "index_symbol = 'XOM'\n",
    "df = pd.read_csv(\n",
    "    path_OHLCV + index_symbol + '.csv',\n",
    "    names=col_names,\n",
    "    parse_dates=True,\n",
    "    index_col=0,)\n",
    "date_index_all_dates = df.index"
   ]
  },
  {
   "cell_type": "code",
   "execution_count": 27,
   "metadata": {},
   "outputs": [],
   "source": [
    "import datetime as dt\n",
    "\n",
    "# last date of df \n",
    "# date_end_limit = '2021-02-16'\n",
    "date_end_limit = dt.date.today().strftime(\"%Y-%m-%d\")\n",
    "\n",
    "iloc_offset = 252  # number of days to plot\n",
    "date_start_limit = None\n",
    "# start and end dates of df\n",
    "date_start, date_end, iloc_date_start, iloc_date_end = \\\n",
    "    dates_within_limits(date_index_all_dates, date_start_limit,\n",
    "                        date_end_limit, iloc_offset)"
   ]
  },
  {
   "cell_type": "code",
   "execution_count": 28,
   "metadata": {},
   "outputs": [],
   "source": [
    "path_OHLCV = \"C:/Users/ping/Google Drive/stocks/MktCap2b_AUMtop1200/OHLCV/\"\n",
    "col_names = [\"date\", \"open\", \"high\", \"low\", \"close\", \"volume\"]\n",
    "\n",
    "# list of dicts to build dataframe\n",
    "data = []\n",
    "for symbol in symbols:\n",
    "    df = pd.read_csv(\n",
    "        path_OHLCV + symbol + '.csv',\n",
    "        names=col_names,\n",
    "        parse_dates=True,\n",
    "        index_col=0,)\n",
    "    df_tmp = df[date_start:date_end]\n",
    "    # average OBV_EMA difference for the last tail_pd days, default is 5 days\n",
    "    tail_pd5 = 5\n",
    "    tail_pd30 = 30\n",
    "    OBV, OBV_EMA, OBV_slope_5 = OBV_calc(df, symbol, EMA_pd=10, tail_pd=tail_pd5, norm_pd=30)\n",
    "    OBV, OBV_EMA, OBV_slope_30 = OBV_calc(df, symbol, EMA_pd=10, tail_pd=tail_pd30, norm_pd=30)\n",
    "    try:\n",
    "        idx_row = df.index.get_loc(date_close)\n",
    "        close = df.iloc[idx_row].close\n",
    "        dict_tmp = {'symbol': symbol, 'date_close': date_close,  'close': close, 'date_OBV_slope': date_end, \\\n",
    "            f'OBV_slope_avg_last_{tail_pd30}': OBV_slope_30, f'OBV_slope_avg_last_{tail_pd5}': OBV_slope_5}\n",
    "        data.append(dict_tmp)\n",
    "    except KeyError:\n",
    "        print(f'ERROR: No \"close price\" for {symbol:<{6}} on {my_date}')"
   ]
  },
  {
   "cell_type": "code",
   "execution_count": 29,
   "metadata": {},
   "outputs": [
    {
     "output_type": "stream",
     "name": "stdout",
     "text": [
      "   symbol  date_close    close date_OBV_slope  OBV_slope_avg_last_30  OBV_slope_avg_last_5\n0    AAPL  2021-02-18   129.71     2021-02-18          -0.048                 -0.294      \n1   ADYEY  2021-02-18    52.89     2021-02-18             NaN                  0.642      \n2    AMZN  2021-02-18  3328.23     2021-02-18           0.121                 -0.065      \n3     API  2021-02-18    92.54     2021-02-18           0.239                 -0.062      \n4    BABA  2021-02-18   264.51     2021-02-18           0.187                  0.256      \n..    ...         ...      ...            ...             ...                    ...      \n50    TSM  2021-02-18   134.63     2021-02-18           0.172                  0.193      \n51   TWLO  2021-02-18   443.49     2021-02-18           0.070                  0.137      \n52   TWST  2021-02-18   149.04     2021-02-18          -0.028                 -0.328      \n53   VRTX  2021-02-18   209.83     2021-02-18          -0.281                 -0.345      \n54      Z  2021-02-18   181.25     2021-02-18           0.213                  0.796      \n\n[55 rows x 6 columns]\n"
     ]
    }
   ],
   "source": [
    "df_out = pd.DataFrame(data)\n",
    "print(df_out)"
   ]
  },
  {
   "cell_type": "code",
   "execution_count": 30,
   "metadata": {},
   "outputs": [
    {
     "output_type": "stream",
     "name": "stdout",
     "text": [
      "   symbol  date_close    close date_OBV_slope  OBV_slope_avg_last_30  OBV_slope_avg_last_5  OBV_slope_weighted\n0    AAPL  2021-02-18   129.71     2021-02-18          -0.048                 -0.294                -0.171    \n1   ADYEY  2021-02-18    52.89     2021-02-18             NaN                  0.642                   NaN    \n2    AMZN  2021-02-18  3328.23     2021-02-18           0.121                 -0.065                 0.028    \n3     API  2021-02-18    92.54     2021-02-18           0.239                 -0.062                 0.088    \n4    BABA  2021-02-18   264.51     2021-02-18           0.187                  0.256                 0.222    \n..    ...         ...      ...            ...             ...                    ...                   ...    \n50    TSM  2021-02-18   134.63     2021-02-18           0.172                  0.193                 0.183    \n51   TWLO  2021-02-18   443.49     2021-02-18           0.070                  0.137                 0.103    \n52   TWST  2021-02-18   149.04     2021-02-18          -0.028                 -0.328                -0.178    \n53   VRTX  2021-02-18   209.83     2021-02-18          -0.281                 -0.345                -0.313    \n54      Z  2021-02-18   181.25     2021-02-18           0.213                  0.796                 0.505    \n\n[55 rows x 7 columns]\n"
     ]
    }
   ],
   "source": [
    "df_out['OBV_slope_weighted'] = 0.5 * df_out.OBV_slope_avg_last_30 + 0.5 * df_out.OBV_slope_avg_last_5\n",
    "print(df_out) "
   ]
  },
  {
   "cell_type": "code",
   "execution_count": 32,
   "metadata": {},
   "outputs": [
    {
     "output_type": "stream",
     "name": "stdout",
     "text": [
      "   symbol  date_close   close date_OBV_slope  OBV_slope_avg_last_30  OBV_slope_avg_last_5  OBV_slope_weighted  rank_OBV_slope  rank_pct\n40     SI  2021-02-18  153.75     2021-02-18           0.576                  0.478                 0.527                54.0     1.000\n54      Z  2021-02-18  181.25     2021-02-18           0.213                  0.796                 0.505                53.0     0.981\n5    BIDU  2021-02-18  298.01     2021-02-18           0.372                  0.565                 0.468                52.0     0.963\n34   PYPL  2021-02-18  290.81     2021-02-18           0.205                  0.630                 0.417                51.0     0.944\n33   PSTG  2021-02-18   27.11     2021-02-18           0.379                  0.453                 0.416                50.0     0.926\n..    ...         ...     ...            ...             ...                    ...                   ...                 ...       ...\n17    ICE  2021-02-18  113.86     2021-02-18          -0.109                 -0.382                -0.245                 4.0     0.074\n9    CRSP  2021-02-18  146.66     2021-02-18          -0.153                 -0.375                -0.264                 3.0     0.056\n53   VRTX  2021-02-18  209.83     2021-02-18          -0.281                 -0.345                -0.313                 2.0     0.037\n19   IRDM  2021-02-18   47.35     2021-02-18          -0.181                 -1.495                -0.838                 1.0     0.019\n1   ADYEY  2021-02-18   52.89     2021-02-18             NaN                  0.642                   NaN                 NaN       NaN\n\n[55 rows x 9 columns]\n"
     ]
    }
   ],
   "source": [
    "# largest OBV_slope_weighted = highest rank\n",
    "df_out['rank_OBV_slope'] = df_out.OBV_slope_weighted.rank()\n",
    "df_out['rank_pct'] = df_out.OBV_slope_weighted.rank(pct=True)\n",
    "print(df_out.sort_values(by='rank_OBV_slope', ascending=False)) "
   ]
  },
  {
   "cell_type": "code",
   "execution_count": 34,
   "metadata": {},
   "outputs": [
    {
     "output_type": "stream",
     "name": "stdout",
     "text": [
      "   symbol  date_close     close date_OBV_slope  OBV_slope_avg_last_30  OBV_slope_avg_last_5  OBV_slope_weighted  rank_OBV_slope  rank_pct\n40     SI  2021-02-18   153.750     2021-02-18           0.576                  0.478                 0.527                54.0     1.000\n54      Z  2021-02-18   181.250     2021-02-18           0.213                  0.796                 0.505                53.0     0.981\n5    BIDU  2021-02-18   298.010     2021-02-18           0.372                  0.565                 0.468                52.0     0.963\n34   PYPL  2021-02-18   290.810     2021-02-18           0.205                  0.630                 0.417                51.0     0.944\n33   PSTG  2021-02-18    27.110     2021-02-18           0.379                  0.453                 0.416                50.0     0.926\n30   PINS  2021-02-18    85.990     2021-02-18           0.197                  0.503                 0.350                49.0     0.907\n38     SE  2021-02-18   267.500     2021-02-18           0.315                  0.354                 0.335                48.0     0.889\n48   TRMB  2021-02-18    72.495     2021-02-18           0.526                  0.137                 0.332                47.0     0.870\n37   ROKU  2021-02-18   452.990     2021-02-18           0.299                  0.262                 0.280                46.0     0.852\n21   KTOS  2021-02-18    29.920     2021-02-18           0.164                  0.380                 0.272                45.0     0.833\n39   SHOP  2021-02-18  1384.570     2021-02-18           0.147                  0.378                 0.263                44.0     0.815\n16   GOOG  2021-02-18  2117.200     2021-02-18           0.183                  0.341                 0.262                43.0     0.796\n29   PACB  2021-02-18    42.740     2021-02-18           0.192                  0.305                 0.249                42.0     0.778\n20     JD  2021-02-18   105.430     2021-02-18           0.047                  0.411                 0.229                41.0     0.759\n46  TCEHY  2021-02-18    95.740     2021-02-18           0.346                  0.111                 0.228                40.0     0.741\n4    BABA  2021-02-18   264.510     2021-02-18           0.187                  0.256                 0.222                39.0     0.722\n49   TSLA  2021-02-18   787.380     2021-02-18           0.364                  0.051                 0.207                38.0     0.704\n42   SPCE  2021-02-18    48.790     2021-02-18           0.395                  0.019                 0.207                37.0     0.685\n28   NXPI  2021-02-18   185.880     2021-02-18           0.203                  0.204                 0.203                36.0     0.667\n15   GBTC  2021-02-18    52.900     2021-02-18           0.093                  0.303                 0.198                35.0     0.648\n7     CAT  2021-02-18   199.920     2021-02-18           0.168                  0.204                 0.186                34.0     0.630\n41   SNAP  2021-02-18    62.870     2021-02-18           0.244                  0.124                 0.184                33.0     0.611\n50    TSM  2021-02-18   134.630     2021-02-18           0.172                  0.193                 0.183                32.0     0.593\n47   TDOC  2021-02-18   283.100     2021-02-18           0.305                  0.042                 0.173                31.0     0.574\n11   EXAS  2021-02-18   141.650     2021-02-18           0.233                  0.092                 0.162                30.0     0.556\n44     SQ  2021-02-18   270.850     2021-02-18           0.026                  0.236                 0.131                29.0     0.537\n51   TWLO  2021-02-18   443.490     2021-02-18           0.070                  0.137                 0.103                28.0     0.519\n22   MELI  2021-02-18  1891.090     2021-02-18           0.124                  0.061                 0.093                27.0     0.500\n3     API  2021-02-18    92.540     2021-02-18           0.239                 -0.062                 0.088                26.0     0.481\n25   NNDM  2021-02-18    13.550     2021-02-18           0.194                 -0.070                 0.062                25.0     0.463\n23   MTLS  2021-02-18    64.480     2021-02-18           0.117                 -0.039                 0.039                24.0     0.444\n24   NFLX  2021-02-18   548.220     2021-02-18           0.049                  0.015                 0.032                23.0     0.426\n2    AMZN  2021-02-18  3328.230     2021-02-18           0.121                 -0.065                 0.028                22.0     0.407\n45    TAK  2021-02-18    17.470     2021-02-18           0.042                 -0.001                 0.020                21.0     0.389\n13     FB  2021-02-18   269.390     2021-02-18          -0.013                  0.040                 0.014                20.0     0.370\n43   SPOT  2021-02-18   354.880     2021-02-18          -0.086                  0.066                -0.010                19.0     0.352\n10     DE  2021-02-18   300.250     2021-02-18           0.032                 -0.113                -0.040                18.0     0.333\n36  RHHBY  2021-02-18    42.840     2021-02-18          -0.044                 -0.056                -0.050                17.0     0.315\n12   FATE  2021-02-18   102.100     2021-02-18          -0.009                 -0.150                -0.080                16.0     0.296\n6   BYDDY  2021-02-18    64.790     2021-02-18          -0.025                 -0.154                -0.090                15.0     0.278\n27   NVTA  2021-02-18    47.520     2021-02-18           0.041                 -0.253                -0.106                14.0     0.259\n31   PRLB  2021-02-18   175.290     2021-02-18           0.187                 -0.411                -0.112                13.0     0.241\n14   FSLY  2021-02-18    80.200     2021-02-18           0.214                 -0.447                -0.116                12.0     0.222\n32   PSNL  2021-02-18    38.600     2021-02-18          -0.009                 -0.262                -0.136                11.0     0.204\n35   REGN  2021-02-18   477.030     2021-02-18           0.077                 -0.355                -0.139                10.0     0.185\n18   IOVA  2021-02-18    46.400     2021-02-18          -0.054                 -0.226                -0.140                 9.0     0.167\n8    CDNA  2021-02-18    82.590     2021-02-18           0.095                 -0.406                -0.156                 8.0     0.148\n26    NVS  2021-02-18    89.390     2021-02-18          -0.113                 -0.221                -0.167                 7.0     0.130\n0    AAPL  2021-02-18   129.710     2021-02-18          -0.048                 -0.294                -0.171                 6.0     0.111\n52   TWST  2021-02-18   149.040     2021-02-18          -0.028                 -0.328                -0.178                 5.0     0.093\n17    ICE  2021-02-18   113.860     2021-02-18          -0.109                 -0.382                -0.245                 4.0     0.074\n9    CRSP  2021-02-18   146.660     2021-02-18          -0.153                 -0.375                -0.264                 3.0     0.056\n53   VRTX  2021-02-18   209.830     2021-02-18          -0.281                 -0.345                -0.313                 2.0     0.037\n19   IRDM  2021-02-18    47.350     2021-02-18          -0.181                 -1.495                -0.838                 1.0     0.019\n1   ADYEY  2021-02-18    52.890     2021-02-18             NaN                  0.642                   NaN                 NaN       NaN\n"
     ]
    }
   ],
   "source": [
    "pd.set_option(\"display.max_rows\", 100)\n",
    "print(df_out.sort_values(by='rank_OBV_slope', ascending=False).head(60)) "
   ]
  },
  {
   "cell_type": "code",
   "execution_count": 35,
   "metadata": {},
   "outputs": [
    {
     "output_type": "stream",
     "name": "stdout",
     "text": [
      "   symbol  date_close     close date_OBV_slope  OBV_slope_avg_last_30  OBV_slope_avg_last_5  OBV_slope_weighted  rank_OBV_slope  rank_pct\n0    AAPL  2021-02-18   129.710     2021-02-18          -0.048                 -0.294                -0.171                 6.0     0.111\n1   ADYEY  2021-02-18    52.890     2021-02-18             NaN                  0.642                   NaN                 NaN       NaN\n2    AMZN  2021-02-18  3328.230     2021-02-18           0.121                 -0.065                 0.028                22.0     0.407\n3     API  2021-02-18    92.540     2021-02-18           0.239                 -0.062                 0.088                26.0     0.481\n4    BABA  2021-02-18   264.510     2021-02-18           0.187                  0.256                 0.222                39.0     0.722\n5    BIDU  2021-02-18   298.010     2021-02-18           0.372                  0.565                 0.468                52.0     0.963\n6   BYDDY  2021-02-18    64.790     2021-02-18          -0.025                 -0.154                -0.090                15.0     0.278\n7     CAT  2021-02-18   199.920     2021-02-18           0.168                  0.204                 0.186                34.0     0.630\n8    CDNA  2021-02-18    82.590     2021-02-18           0.095                 -0.406                -0.156                 8.0     0.148\n9    CRSP  2021-02-18   146.660     2021-02-18          -0.153                 -0.375                -0.264                 3.0     0.056\n10     DE  2021-02-18   300.250     2021-02-18           0.032                 -0.113                -0.040                18.0     0.333\n11   EXAS  2021-02-18   141.650     2021-02-18           0.233                  0.092                 0.162                30.0     0.556\n12   FATE  2021-02-18   102.100     2021-02-18          -0.009                 -0.150                -0.080                16.0     0.296\n13     FB  2021-02-18   269.390     2021-02-18          -0.013                  0.040                 0.014                20.0     0.370\n14   FSLY  2021-02-18    80.200     2021-02-18           0.214                 -0.447                -0.116                12.0     0.222\n15   GBTC  2021-02-18    52.900     2021-02-18           0.093                  0.303                 0.198                35.0     0.648\n16   GOOG  2021-02-18  2117.200     2021-02-18           0.183                  0.341                 0.262                43.0     0.796\n17    ICE  2021-02-18   113.860     2021-02-18          -0.109                 -0.382                -0.245                 4.0     0.074\n18   IOVA  2021-02-18    46.400     2021-02-18          -0.054                 -0.226                -0.140                 9.0     0.167\n19   IRDM  2021-02-18    47.350     2021-02-18          -0.181                 -1.495                -0.838                 1.0     0.019\n20     JD  2021-02-18   105.430     2021-02-18           0.047                  0.411                 0.229                41.0     0.759\n21   KTOS  2021-02-18    29.920     2021-02-18           0.164                  0.380                 0.272                45.0     0.833\n22   MELI  2021-02-18  1891.090     2021-02-18           0.124                  0.061                 0.093                27.0     0.500\n23   MTLS  2021-02-18    64.480     2021-02-18           0.117                 -0.039                 0.039                24.0     0.444\n24   NFLX  2021-02-18   548.220     2021-02-18           0.049                  0.015                 0.032                23.0     0.426\n25   NNDM  2021-02-18    13.550     2021-02-18           0.194                 -0.070                 0.062                25.0     0.463\n26    NVS  2021-02-18    89.390     2021-02-18          -0.113                 -0.221                -0.167                 7.0     0.130\n27   NVTA  2021-02-18    47.520     2021-02-18           0.041                 -0.253                -0.106                14.0     0.259\n28   NXPI  2021-02-18   185.880     2021-02-18           0.203                  0.204                 0.203                36.0     0.667\n29   PACB  2021-02-18    42.740     2021-02-18           0.192                  0.305                 0.249                42.0     0.778\n30   PINS  2021-02-18    85.990     2021-02-18           0.197                  0.503                 0.350                49.0     0.907\n31   PRLB  2021-02-18   175.290     2021-02-18           0.187                 -0.411                -0.112                13.0     0.241\n32   PSNL  2021-02-18    38.600     2021-02-18          -0.009                 -0.262                -0.136                11.0     0.204\n33   PSTG  2021-02-18    27.110     2021-02-18           0.379                  0.453                 0.416                50.0     0.926\n34   PYPL  2021-02-18   290.810     2021-02-18           0.205                  0.630                 0.417                51.0     0.944\n35   REGN  2021-02-18   477.030     2021-02-18           0.077                 -0.355                -0.139                10.0     0.185\n36  RHHBY  2021-02-18    42.840     2021-02-18          -0.044                 -0.056                -0.050                17.0     0.315\n37   ROKU  2021-02-18   452.990     2021-02-18           0.299                  0.262                 0.280                46.0     0.852\n38     SE  2021-02-18   267.500     2021-02-18           0.315                  0.354                 0.335                48.0     0.889\n39   SHOP  2021-02-18  1384.570     2021-02-18           0.147                  0.378                 0.263                44.0     0.815\n40     SI  2021-02-18   153.750     2021-02-18           0.576                  0.478                 0.527                54.0     1.000\n41   SNAP  2021-02-18    62.870     2021-02-18           0.244                  0.124                 0.184                33.0     0.611\n42   SPCE  2021-02-18    48.790     2021-02-18           0.395                  0.019                 0.207                37.0     0.685\n43   SPOT  2021-02-18   354.880     2021-02-18          -0.086                  0.066                -0.010                19.0     0.352\n44     SQ  2021-02-18   270.850     2021-02-18           0.026                  0.236                 0.131                29.0     0.537\n45    TAK  2021-02-18    17.470     2021-02-18           0.042                 -0.001                 0.020                21.0     0.389\n46  TCEHY  2021-02-18    95.740     2021-02-18           0.346                  0.111                 0.228                40.0     0.741\n47   TDOC  2021-02-18   283.100     2021-02-18           0.305                  0.042                 0.173                31.0     0.574\n48   TRMB  2021-02-18    72.495     2021-02-18           0.526                  0.137                 0.332                47.0     0.870\n49   TSLA  2021-02-18   787.380     2021-02-18           0.364                  0.051                 0.207                38.0     0.704\n50    TSM  2021-02-18   134.630     2021-02-18           0.172                  0.193                 0.183                32.0     0.593\n51   TWLO  2021-02-18   443.490     2021-02-18           0.070                  0.137                 0.103                28.0     0.519\n52   TWST  2021-02-18   149.040     2021-02-18          -0.028                 -0.328                -0.178                 5.0     0.093\n53   VRTX  2021-02-18   209.830     2021-02-18          -0.281                 -0.345                -0.313                 2.0     0.037\n54      Z  2021-02-18   181.250     2021-02-18           0.213                  0.796                 0.505                53.0     0.981\n"
     ]
    }
   ],
   "source": [
    "csv_out = r'C:\\Users\\ping\\Desktop\\df_out.csv'\n",
    "df_out.to_csv(csv_out)\n",
    "print(df_out)\n"
   ]
  },
  {
   "cell_type": "code",
   "execution_count": null,
   "metadata": {},
   "outputs": [],
   "source": []
  }
 ]
}