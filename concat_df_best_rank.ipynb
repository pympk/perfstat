{
 "metadata": {
  "language_info": {
   "codemirror_mode": {
    "name": "ipython",
    "version": 3
   },
   "file_extension": ".py",
   "mimetype": "text/x-python",
   "name": "python",
   "nbconvert_exporter": "python",
   "pygments_lexer": "ipython3",
   "version": "3.6.8-final"
  },
  "orig_nbformat": 2,
  "kernelspec": {
   "name": "python3",
   "display_name": "Python 3"
  }
 },
 "nbformat": 4,
 "nbformat_minor": 2,
 "cells": [
  {
   "cell_type": "code",
   "execution_count": 3,
   "metadata": {},
   "outputs": [],
   "source": [
    "import pandas as pd\n",
    "import datetime as dt  # NOQA\n",
    "import numpy as np\n",
    "import os\n",
    "from util import pickle_load, pickle_dump, print_symbol_data, plot_symbols\n",
    "\n",
    "path_symbols_data = \"C:/Users/ping/Google Drive/stocks/MktCap2b_AUMtop1200/\"\n",
    "path_data_dump = path_symbols_data + \"VSCode_dump/\"\n",
    "filename_df = \"df_best_rank\"\n",
    "df_best_rank = pickle_load(path_data_dump, filename_df)"
   ]
  },
  {
   "cell_type": "code",
   "execution_count": 6,
   "metadata": {},
   "outputs": [
    {
     "output_type": "stream",
     "name": "stdout",
     "text": [
      "df_best_rank does not exist\n\n"
     ]
    }
   ],
   "source": [
    "if not(os.path.exists(path_data_dump + filename_df)):  # does df exists?\n",
    "    # df does not exists\n",
    "    # df = pd.DataFrame([row_data])  # create df\n",
    "    print(f'{filename_df} does not exist\\n')\n",
    "    # save to path_data_dump\n",
    "\n",
    "    # # pickle_dump(df, path_data_dump, filename_df)\n",
    "    # df.to_pickle(my_file)\n",
    "    # df.to_csv(my_file + '.csv')\n",
    "    # # save to archive, overwrite if same file name exists\n",
    "    # # pickle_dump(df, path_archive, filename_df_archive)\n",
    "    # df.to_pickle(my_archive)\n",
    "else:\n",
    "    # df exists, archive 'df_ps1n2_results'\n",
    "    print(f'{filename_df} exists\\n')"
   ]
  },
  {
   "cell_type": "code",
   "execution_count": 2,
   "metadata": {},
   "outputs": [
    {
     "output_type": "execute_result",
     "data": {
      "text/plain": [
       "Index(['date_end', 'symbol', 'str_iloc_offsets', 'slice_stop',\n",
       "       'days_trade_delay', 'date_buy_older_limit', 'CAGR_count',\n",
       "       'best_pct_rank', 'CAGR_ct*best_pct_rk', 'date_delay'],\n",
       "      dtype='object')"
      ]
     },
     "metadata": {},
     "execution_count": 2
    }
   ],
   "source": [
    "df_best_rank.columns"
   ]
  }
 ]
}