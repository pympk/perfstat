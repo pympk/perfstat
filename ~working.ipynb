{
 "metadata": {
  "language_info": {
   "codemirror_mode": {
    "name": "ipython",
    "version": 3
   },
   "file_extension": ".py",
   "mimetype": "text/x-python",
   "name": "python",
   "nbconvert_exporter": "python",
   "pygments_lexer": "ipython3",
   "version": "3.6.8"
  },
  "orig_nbformat": 2,
  "kernelspec": {
   "name": "python368jvsc74a57bd0519ba696b20d93792fe8c5eef783bc1c7f089152001e8956e74a5d1b2f43e031",
   "display_name": "Python 3.6.8 64-bit ('perfstat-Pnl-Y3Wp-py3.6': venv)"
  }
 },
 "nbformat": 4,
 "nbformat_minor": 2,
 "cells": [
  {
   "cell_type": "code",
   "execution_count": 1,
   "metadata": {},
   "outputs": [
    {
     "output_type": "stream",
     "name": "stdout",
     "text": [
      "hello\n"
     ]
    }
   ],
   "source": [
    "print('hello')"
   ]
  },
  {
   "cell_type": "code",
   "execution_count": null,
   "metadata": {},
   "outputs": [],
   "source": [
    "import pandas as pd\n",
    "path_symbols_data = \"C:/Users/ping/Google Drive/stocks/MktCap2b_AUMtop1200/\"\n",
    "path_data_dump = path_symbols_data + \"VSCode_dump/\"\n",
    "df_symbols_close = pd.read_pickle(path_data_dump + 'df_symbols_close')\n",
    "idx_syms = df_symbols_close.columns\n",
    "idx_dates = df_symbols_close.index.strftime(\"%Y-%m-%d\")\n",
    "print(f'type(idx_syms): {type(idx_syms)}')\n",
    "print(f'idx_syms: {idx_syms}\\n')\n",
    "print(f'type(idx_dates): {type(idx_dates)}')\n",
    "print(f'idx_dates: {idx_dates}\\n')"
   ]
  },
  {
   "cell_type": "code",
   "execution_count": null,
   "metadata": {},
   "outputs": [],
   "source": [
    "myDate = '2020-12-10'\n",
    "mySymbol = 'MRNA'\n",
    "myDelay = 1"
   ]
  },
  {
   "cell_type": "code",
   "execution_count": null,
   "metadata": {},
   "outputs": [],
   "source": [
    "sym_idx_loc = idx_syms.get_loc(mySymbol)\n",
    "print(sym_idx_loc)\n",
    "print(f'idx_syms[{sym_idx_loc}] = {mySymbol}\\n')\n",
    "print(idx_syms[sym_idx_loc])"
   ]
  },
  {
   "cell_type": "code",
   "execution_count": null,
   "metadata": {},
   "outputs": [],
   "source": [
    "if myDate in idx_dates:\n",
    "    print(f'{myDate} is in idx_dates')\n",
    "else:\n",
    "    print(f'{myDate} is NOT in idx_dates')"
   ]
  },
  {
   "cell_type": "code",
   "execution_count": null,
   "metadata": {},
   "outputs": [],
   "source": [
    "date_idx_loc = idx_dates.get_loc(myDate)\n",
    "# print(date_idx_loc)\n",
    "# print(f'idx_dates[{date_idx_loc}] = {myDate}\\n')\n",
    "# print(idx_dates[date_idx_loc])"
   ]
  },
  {
   "cell_type": "code",
   "execution_count": null,
   "metadata": {},
   "outputs": [],
   "source": [
    "df_symbols_close.iloc[date_idx_loc + myDelay, sym_idx_loc]"
   ]
  },
  {
   "cell_type": "code",
   "execution_count": null,
   "metadata": {},
   "outputs": [],
   "source": []
  }
 ]
}