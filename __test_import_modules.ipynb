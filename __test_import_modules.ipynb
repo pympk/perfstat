{
 "cells": [
  {
   "cell_type": "code",
   "execution_count": 1,
   "metadata": {},
   "outputs": [
    {
     "name": "stdout",
     "output_type": "stream",
     "text": [
      "python_path:  c:\\Users\\ping\\AppData\\Local\\pypoetry\\Cache\\virtualenvs\\pyenv-test-nh-tUlOd-py3.7\\Scripts\\python.exe\n",
      "python_version:  3.7.9\n"
     ]
    }
   ],
   "source": [
    "import sys\n",
    "print (\"python_path: \", sys.executable)\n",
    "from platform import python_version\n",
    "print (\"python_version: \",  python_version()) \n",
    "import pandas as pd\n",
    "import numpy as np\n",
    "# import matplotlib.pyplot as plt\n",
    "# import flake8"
   ]
  },
  {
   "cell_type": "code",
   "execution_count": null,
   "metadata": {},
   "outputs": [],
   "source": [
    "# fix ModuleNotFoundError in Jupyter Notebook\n",
    "# copy path, then install matplotlib\n",
    "# ! c:\\Users\\ping\\.pyenv\\pyenv-win\\versions\\3.7.4\\python -m pip install matplotlib"
   ]
  }
 ],
 "metadata": {
  "interpreter": {
   "hash": "071c5f2ad7812dbb89e78837d9cb3a1f225e65473a511646a4756aca34966699"
  },
  "kernelspec": {
   "display_name": "Python 3.7.9 ('pyenv-test-nh-tUlOd-py3.7')",
   "language": "python",
   "name": "python3"
  },
  "language_info": {
   "codemirror_mode": {
    "name": "ipython",
    "version": 3
   },
   "file_extension": ".py",
   "mimetype": "text/x-python",
   "name": "python",
   "nbconvert_exporter": "python",
   "pygments_lexer": "ipython3",
   "version": "3.7.9"
  },
  "orig_nbformat": 4
 },
 "nbformat": 4,
 "nbformat_minor": 2
}
